{
  "nbformat": 4,
  "nbformat_minor": 0,
  "metadata": {
    "colab": {
      "name": "Latihan_Minggu1.ipynb",
      "provenance": [],
      "authorship_tag": "ABX9TyOFY3YTSvFayeQhws9Fh+Qd",
      "include_colab_link": true
    },
    "kernelspec": {
      "name": "python3",
      "display_name": "Python 3"
    },
    "language_info": {
      "name": "python"
    }
  },
  "cells": [
    {
      "cell_type": "markdown",
      "metadata": {
        "id": "view-in-github",
        "colab_type": "text"
      },
      "source": [
        "<a href=\"https://colab.research.google.com/github/bellanm23/workshop-python/blob/main/Latihan_Minggu1.ipynb\" target=\"_parent\"><img src=\"https://colab.research.google.com/assets/colab-badge.svg\" alt=\"Open In Colab\"/></a>"
      ]
    },
    {
      "cell_type": "code",
      "execution_count": null,
      "metadata": {
        "colab": {
          "base_uri": "https://localhost:8080/"
        },
        "id": "PzRl_D3XFZbP",
        "outputId": "88a47cdb-633d-4e21-e38d-3fed8d82ac8b"
      },
      "outputs": [
        {
          "output_type": "stream",
          "name": "stdout",
          "text": [
            "Be careful not to fall off!\n"
          ]
        }
      ],
      "source": [
        "the_world_is_flat = True\n",
        "if the_world_is_flat:\n",
        "  print(\"Be careful not to fall off!\")"
      ]
    },
    {
      "cell_type": "code",
      "source": [
        "s = 'SelamatBelajarDiKelasWorkshpPythonPadaHariSelasa'\n",
        "len(s)"
      ],
      "metadata": {
        "colab": {
          "base_uri": "https://localhost:8080/"
        },
        "id": "kyk0B5fvKU5t",
        "outputId": "0aff78e5-83e6-4cf4-9a4a-91b2beb3598f"
      },
      "execution_count": null,
      "outputs": [
        {
          "output_type": "execute_result",
          "data": {
            "text/plain": [
              "48"
            ]
          },
          "metadata": {},
          "execution_count": 2
        }
      ]
    },
    {
      "cell_type": "code",
      "source": [
        "# Contoh tipe data String\n",
        "kota = \"Indonesia\"\n",
        "\n",
        "# Contoh tipe data Integer\n",
        "tahun = 1945\n",
        "\n",
        "# Contoh tipe data Boolean\n",
        "status_negara = True"
      ],
      "metadata": {
        "id": "xLMEDdDLP3mn"
      },
      "execution_count": null,
      "outputs": []
    },
    {
      "cell_type": "code",
      "source": [
        "print(\"Kota                 : \", kota)\n",
        "print(\"Tahun                : \", tahun, \"Tahun\")\n",
        "print(\"Status Negara        : \", status_negara)"
      ],
      "metadata": {
        "colab": {
          "base_uri": "https://localhost:8080/"
        },
        "id": "bbOCYtwaQ-QI",
        "outputId": "9587287d-520c-4046-b5d7-da59aa64ebf1"
      },
      "execution_count": null,
      "outputs": [
        {
          "output_type": "stream",
          "name": "stdout",
          "text": [
            "Kota                 :  Indonesia\n",
            "Tahun                :  1945 Tahun\n",
            "Status Negara        :  True\n"
          ]
        }
      ]
    },
    {
      "cell_type": "code",
      "source": [
        ""
      ],
      "metadata": {
        "id": "DydJmrrnRODa"
      },
      "execution_count": null,
      "outputs": []
    }
  ]
}