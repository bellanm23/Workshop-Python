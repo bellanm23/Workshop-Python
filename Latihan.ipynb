{
  "nbformat": 4,
  "nbformat_minor": 0,
  "metadata": {
    "colab": {
      "name": "Latihan.ipynb",
      "provenance": [],
      "authorship_tag": "ABX9TyNfFhvQE7sTJTSucjYNPTbG",
      "include_colab_link": true
    },
    "kernelspec": {
      "name": "python3",
      "display_name": "Python 3"
    },
    "language_info": {
      "name": "python"
    }
  },
  "cells": [
    {
      "cell_type": "markdown",
      "metadata": {
        "id": "view-in-github",
        "colab_type": "text"
      },
      "source": [
        "<a href=\"https://colab.research.google.com/github/bellanm23/workshop-python/blob/main/Latihan.ipynb\" target=\"_parent\"><img src=\"https://colab.research.google.com/assets/colab-badge.svg\" alt=\"Open In Colab\"/></a>"
      ]
    },
    {
      "cell_type": "code",
      "execution_count": 1,
      "metadata": {
        "id": "UiMLwFR2vLcz"
      },
      "outputs": [],
      "source": [
        "# Contoh tipe data String\n",
        "nama = \"Bella\"\n",
        "\n",
        "# Contoh tipe data Integer\n",
        "umur = 20\n",
        "\n",
        "# Contoh tipe data Float\n",
        "berat_badan = 56\n",
        "\n",
        "# Contoh tipe data Boolean\n",
        "status_pernikahan = False"
      ]
    },
    {
      "cell_type": "code",
      "source": [
        "print(\"Nama                : \", nama)\n",
        "print(\"Umur                : \", umur, \"Tahun\")\n",
        "print(\"Berat Badan         : \", berat_badan)\n",
        "print(\"Status Pernikahan   : \", status_pernikahan)"
      ],
      "metadata": {
        "colab": {
          "base_uri": "https://localhost:8080/"
        },
        "id": "VVgFdJpSvYci",
        "outputId": "33e5dd2c-0213-4945-a977-6881fdb54998"
      },
      "execution_count": 2,
      "outputs": [
        {
          "output_type": "stream",
          "name": "stdout",
          "text": [
            "Nama                :  Bella\n",
            "Umur                :  20 Tahun\n",
            "Berat Badan         :  56\n",
            "Status Pernikahan   :  False\n"
          ]
        }
      ]
    },
    {
      "cell_type": "code",
      "source": [
        "import array as arr\n",
        "# Contoh Array\n",
        "# value dalam array harus memiliki tipe data yang sama\n",
        "# I untuk unsigned integer (integer positif), lihat gambar di atas\n",
        "apapun_array = arr.array(\"I\", [1,4,8,12,16])\n",
        "print(apapun_array)"
      ],
      "metadata": {
        "colab": {
          "base_uri": "https://localhost:8080/"
        },
        "id": "qrdFBteewMrk",
        "outputId": "188f36f0-f8ee-4d1f-e510-48e35d5fbaf3"
      },
      "execution_count": 3,
      "outputs": [
        {
          "output_type": "stream",
          "name": "stdout",
          "text": [
            "array('I', [1, 4, 8, 12, 16])\n"
          ]
        }
      ]
    },
    {
      "cell_type": "markdown",
      "source": [
        "# array akan error apabila didalamnya terdapat tipe data yang berbeda."
      ],
      "metadata": {
        "id": "aWQKIdTWwmwc"
      }
    },
    {
      "cell_type": "code",
      "source": [
        "# Array akan error apabila didalamnya terdapat tipe data yang berbeda\n",
        "bilangan_kelipatan_tiga = arr.array(\"I\", [1,3,\"enam\",9])\n",
        "print(bilangan_kelipatan_tiga)"
      ],
      "metadata": {
        "colab": {
          "base_uri": "https://localhost:8080/",
          "height": 208
        },
        "id": "Knun7KHlwUD2",
        "outputId": "476edc0c-4dac-4e77-8976-204e1c76b585"
      },
      "execution_count": 4,
      "outputs": [
        {
          "output_type": "error",
          "ename": "TypeError",
          "evalue": "ignored",
          "traceback": [
            "\u001b[0;31m---------------------------------------------------------------------------\u001b[0m",
            "\u001b[0;31mTypeError\u001b[0m                                 Traceback (most recent call last)",
            "\u001b[0;32m<ipython-input-4-cfe717ff9765>\u001b[0m in \u001b[0;36m<module>\u001b[0;34m()\u001b[0m\n\u001b[1;32m      1\u001b[0m \u001b[0;31m# Array akan error apabila didalamnya terdapat tipe data yang berbeda\u001b[0m\u001b[0;34m\u001b[0m\u001b[0;34m\u001b[0m\u001b[0;34m\u001b[0m\u001b[0m\n\u001b[0;32m----> 2\u001b[0;31m \u001b[0mbilangan_kelipatan_tiga\u001b[0m \u001b[0;34m=\u001b[0m \u001b[0marr\u001b[0m\u001b[0;34m.\u001b[0m\u001b[0marray\u001b[0m\u001b[0;34m(\u001b[0m\u001b[0;34m\"I\"\u001b[0m\u001b[0;34m,\u001b[0m \u001b[0;34m[\u001b[0m\u001b[0;36m1\u001b[0m\u001b[0;34m,\u001b[0m\u001b[0;36m3\u001b[0m\u001b[0;34m,\u001b[0m\u001b[0;34m\"enam\"\u001b[0m\u001b[0;34m,\u001b[0m\u001b[0;36m9\u001b[0m\u001b[0;34m]\u001b[0m\u001b[0;34m)\u001b[0m\u001b[0;34m\u001b[0m\u001b[0;34m\u001b[0m\u001b[0m\n\u001b[0m\u001b[1;32m      3\u001b[0m \u001b[0mprint\u001b[0m\u001b[0;34m(\u001b[0m\u001b[0mbilangan_kelipatan_tiga\u001b[0m\u001b[0;34m)\u001b[0m\u001b[0;34m\u001b[0m\u001b[0;34m\u001b[0m\u001b[0m\n",
            "\u001b[0;31mTypeError\u001b[0m: an integer is required (got type str)"
          ]
        }
      ]
    },
    {
      "cell_type": "code",
      "source": [
        ""
      ],
      "metadata": {
        "id": "Vt7qXJruwkPf"
      },
      "execution_count": null,
      "outputs": []
    }
  ]
}